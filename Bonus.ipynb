{
 "cells": [
  {
   "cell_type": "markdown",
   "metadata": {},
   "source": [
    "## Technical Report Outlining Data Engineering Steps Taken:\n",
    "1) Sketched out Entity Relationship Diagram (ERD) of employee database tables; specifying data types, primary keys and foreign keys.<br> \n",
    "2) Exported ERD to PostgreSQL thus creating table schemas and contraints for each of the six CSV files. <br>\n",
    "3) Imported CSV files to each corresponding SQL table."
   ]
  },
  {
   "cell_type": "code",
   "execution_count": 22,
   "metadata": {},
   "outputs": [
    {
     "name": "stdout",
     "output_type": "stream",
     "text": [
      "Requirement already satisfied: psycopg2 in c:\\users\\user\\anaconda3\\lib\\site-packages (2.8.3)\n",
      "Requirement already satisfied: pprint in c:\\users\\user\\anaconda3\\lib\\site-packages (0.1)\n"
     ]
    }
   ],
   "source": [
    "# For PostGREs and SQLAlchemy\n",
    "!pip install psycopg2\n",
    "!pip install pprint"
   ]
  },
  {
   "cell_type": "code",
   "execution_count": 23,
   "metadata": {},
   "outputs": [],
   "source": [
    "# Dependencies and Setup\n",
    "import psycopg2  \n",
    "import pprint  "
   ]
  },
  {
   "cell_type": "code",
   "execution_count": 24,
   "metadata": {},
   "outputs": [],
   "source": [
    "# Create Engine and Pass in Postgres Connection\n",
    "# Setup to Connect to Database\n",
    "conn = psycopg2.connect(user= 'postgres', password='Enter_your_password', database='SQL_Homework' )\n",
    "cursor = conn.cursor()  "
   ]
  },
  {
   "cell_type": "code",
   "execution_count": 25,
   "metadata": {},
   "outputs": [],
   "source": [
    "# Query to find average salary with title\n",
    "cursor.execute('SELECT t.title, round(avg(s.salary),2) as \"Average salary\" FROM salaries s join title t on t.emp_no = s.emp_no group by title')"
   ]
  },
  {
   "cell_type": "code",
   "execution_count": 26,
   "metadata": {},
   "outputs": [],
   "source": [
    "rows = cursor.fetchall()  "
   ]
  },
  {
   "cell_type": "code",
   "execution_count": 27,
   "metadata": {},
   "outputs": [
    {
     "name": "stdout",
     "output_type": "stream",
     "text": [
      "[('Assistant Engineer', Decimal('48493.20')),\n",
      " ('Engineer', Decimal('48539.78')),\n",
      " ('Manager', Decimal('51531.04')),\n",
      " ('Senior Engineer', Decimal('48506.75')),\n",
      " ('Senior Staff', Decimal('58503.29')),\n",
      " ('Staff', Decimal('58465.27')),\n",
      " ('Technique Leader', Decimal('48580.51'))]\n"
     ]
    }
   ],
   "source": [
    "pprint.pprint(rows)  "
   ]
  },
  {
   "cell_type": "code",
   "execution_count": 28,
   "metadata": {},
   "outputs": [],
   "source": [
    "# Dependencies and Setup\n",
    "import pandas as pd\n",
    "import matplotlib.pyplot as plt"
   ]
  },
  {
   "cell_type": "code",
   "execution_count": 29,
   "metadata": {},
   "outputs": [],
   "source": [
    "# find the values and append to list\n",
    "values  = []\n",
    "i = 0\n",
    "length = len(rows)\n",
    "while i < length:\n",
    "    values.append(rows[i][1])\n",
    "    i += 1"
   ]
  },
  {
   "cell_type": "code",
   "execution_count": 30,
   "metadata": {},
   "outputs": [],
   "source": [
    "# find the values for x_axis and append to the list\n",
    "x_labels = []\n",
    "i = 0\n",
    "length1 = len(rows)\n",
    "while i < length1:\n",
    "    x_labels.append(rows[i][0])\n",
    "    i += 1"
   ]
  },
  {
   "cell_type": "code",
   "execution_count": 31,
   "metadata": {
    "scrolled": true
   },
   "outputs": [
    {
     "data": {
      "image/png": "[encoded data removed]",
      "text/plain": [
       "<Figure size 432x288 with 1 Axes>"
      ]
     },
     "metadata": {
      "needs_background": "light"
     },
     "output_type": "display_data"
    }
   ],
   "source": [
    "# Set x_axis, y_axis ,Tick Locations and plot the bar graph\n",
    "plt.bar(x_labels, values, color=[\"k\", \"r\", \"g\", \"m\", \"b\", \"c\", \"y\"], alpha=0.5, align=\"center\")\n",
    "plt.xticks(rotation=\"vertical\")\n",
    "\n",
    "# Set Labels & Title\n",
    "plt.ylabel(\"Average Salaries ($)\")\n",
    "plt.xlabel(\"Employee Titles\")\n",
    "plt.title(\"Average Employee Salary by Title\")\n",
    "\n",
    "# Save Figure\n",
    "plt.savefig('Average_salary_by_title.png')\n",
    "\n",
    "# Show plot\n",
    "plt.show()"
   ]
  }
 ],
 "metadata": {
  "kernelspec": {
   "display_name": "Python 3",
   "language": "python",
   "name": "python3"
  },
  "language_info": {
   "codemirror_mode": {
    "name": "ipython",
    "version": 3
   },
   "file_extension": ".py",
   "mimetype": "text/x-python",
   "name": "python",
   "nbconvert_exporter": "python",
   "pygments_lexer": "ipython3",
   "version": "3.7.3"
  }
 },
 "nbformat": 4,
 "nbformat_minor": 2
}
